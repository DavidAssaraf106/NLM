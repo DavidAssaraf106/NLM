{
 "cells": [
  {
   "cell_type": "markdown",
   "metadata": {},
   "source": [
    "### Harvard hypergaphs"
   ]
  },
  {
   "cell_type": "code",
   "execution_count": null,
   "metadata": {},
   "outputs": [],
   "source": [
    "from multiprocessing import Pool\n",
    "import networkx as nx\n",
    "from itertools import combinations\n",
    "import string\n",
    "import numpy as np\n",
    "import random\n",
    "import json\n",
    "import pickle\n",
    "from math import floor\n",
    "\n",
    "#model constructor\n",
    "class SimplagionModel():\n",
    "    def __init__(self, node_neighbors_dict, triangles_list, I_percentage):\n",
    "        #parameters\n",
    "        self.neighbors_dict = node_neighbors_dict self.triangles_list = triangles_list self.nodes = list(node_neighbors_dict.keys()) self.N = len(node_neighbors_dict.keys()) self.I = int(I_percentage * self.N/100)\n",
    "        #Initial setup\n",
    "        #Save the infected nodes of the first\n",
    "        #initialisation in case want to repeat several runs with #the same configuration\n",
    "        self.initial_infected_nodes = self.initial_setup()\n",
    "        \n",
    "    def initial_setup(self, fixed_nodes_to_infect=None, print_status=True): #going to use this to store the agents in each state\n",
    "        self.sAgentSet = set()\n",
    "        self.iAgentSet = set()\n",
    "        #and here we're going to store the counts of how many agents are in each #state at each time step\n",
    "        self.iList = []\n",
    "        self.t = 0\n",
    "        #start with everyone susceptible\n",
    "        \n",
    "        for n in self.nodes: \n",
    "            self.sAgentSet.add(n)\n",
    "        #infect nodes\n",
    "        if fixed_nodes_to_infect==None: infected_this_setup=[]\n",
    "        #we will infect I agents for ite in range(self.I):\n",
    "        #select one to infect among the supsceptibles\n",
    "        to_infect = random.choice(list(self.sAgentSet)) self.infectAgent(to_infect) infected_this_setup.append(to_infect)\n",
    "        #Else, already have run the model and this is not the first #run, want to infect the same nodes\n",
    "        else:\n",
    "        infected_this_setup=[]\n",
    "        for to_infect in fixed_nodes_to_infect:\n",
    "        self.infectAgent(to_infect)\n",
    "        infected_this_setup.append(to_infect) return infected_this_setup\n"
   ]
  }
 ],
 "metadata": {
  "kernelspec": {
   "display_name": "Python 3",
   "language": "python",
   "name": "python3"
  },
  "language_info": {
   "codemirror_mode": {
    "name": "ipython",
    "version": 3
   },
   "file_extension": ".py",
   "mimetype": "text/x-python",
   "name": "python",
   "nbconvert_exporter": "python",
   "pygments_lexer": "ipython3",
   "version": "3.8.3"
  }
 },
 "nbformat": 4,
 "nbformat_minor": 4
}
