{
 "cells": [
  {
   "cell_type": "code",
   "execution_count": null,
   "metadata": {},
   "outputs": [],
   "source": [
    "num1=0\n",
    "for i in range(len(vec1_)):\n",
    "    if i%2==0:\n",
    "        num1+=4*(vec1_[i]**2)\n",
    "    if i%2==1:\n",
    "        num1+=2*(vec1_[i]**2)\n",
    "num1=(h/3)*num1\n",
    "\n",
    "p1=num1/denom1\n",
    "\n",
    "num2=0\n",
    "for i in range(len(vec2_)):\n",
    "    if i%2==0:\n",
    "        num2+=4*(vec2_[i]**2)\n",
    "    if i%2==1:\n",
    "        num2+=2*(vec2_[i]**2)\n",
    "num2=(h/3)*num2\n",
    "\n",
    "p2=num2/denom2\n",
    "\n",
    "num3=0\n",
    "for i in range(len(vec3_)):\n",
    "    if i%2==0:\n",
    "        num3+=4*(vec3_[i]**2)\n",
    "    if i%2==1:\n",
    "        num3+=2*(vec3_[i]**2)\n",
    "num3=(h/3)*num3\n",
    "\n",
    "p3=num3/denom3"
   ]
  }
 ],
 "metadata": {
  "kernelspec": {
   "display_name": "Python 3",
   "language": "python",
   "name": "python3"
  },
  "language_info": {
   "codemirror_mode": {
    "name": "ipython",
    "version": 3
   },
   "file_extension": ".py",
   "mimetype": "text/x-python",
   "name": "python",
   "nbconvert_exporter": "python",
   "pygments_lexer": "ipython3",
   "version": "3.8.3"
  }
 },
 "nbformat": 4,
 "nbformat_minor": 4
}
